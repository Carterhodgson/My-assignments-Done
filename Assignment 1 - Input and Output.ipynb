{
 "cells": [
  {
   "cell_type": "markdown",
   "metadata": {
    "colab_type": "text",
    "deletable": false,
    "editable": false,
    "id": "-ycSUdCI6y9U",
    "slideshow": {
     "slide_type": ""
    },
    "tags": []
   },
   "source": [
    "# Assignment 1\n",
    "\n",
    "## Total: 35pts"
   ]
  },
  {
   "cell_type": "markdown",
   "metadata": {
    "colab_type": "text",
    "editable": false,
    "id": "Wu4GRcHW6y9Z",
    "slideshow": {
     "slide_type": ""
    },
    "tags": []
   },
   "source": [
    "### Part A - Write Code! (5pts)\n",
    "\n",
    "For each item below, determine the appropriate PowerShell code to generate the desired output.\n",
    "\n",
    "---"
   ]
  },
  {
   "cell_type": "markdown",
   "metadata": {
    "colab_type": "text",
    "editable": false,
    "id": "nTt4W7Ld6y9b",
    "slideshow": {
     "slide_type": ""
    },
    "tags": []
   },
   "source": [
    "1) Display your name and student ID to the console."
   ]
  },
  {
   "cell_type": "code",
   "execution_count": 1,
   "metadata": {
    "dotnet_interactive": {
     "language": "pwsh"
    },
    "editable": true,
    "polyglot_notebook": {
     "kernelName": "pwsh"
    },
    "slideshow": {
     "slide_type": ""
    },
    "tags": [],
    "vscode": {
     "languageId": "polyglot-notebook"
    }
   },
   "outputs": [
    {
     "name": "stdout",
     "output_type": "stream",
     "text": [
      "Carter Hodgson W0516680\r\n"
     ]
    }
   ],
   "source": [
    "Write-Host \"Carter Hodgson W0516680\""
   ]
  },
  {
   "cell_type": "markdown",
   "metadata": {
    "colab_type": "text",
    "editable": false,
    "id": "Es-ulO716y9m",
    "slideshow": {
     "slide_type": ""
    },
    "tags": []
   },
   "source": [
    "Jane Doe W0123456"
   ]
  },
  {
   "cell_type": "markdown",
   "metadata": {
    "colab_type": "text",
    "id": "5fUTfuYX6y9p"
   },
   "source": [
    "---"
   ]
  },
  {
   "cell_type": "markdown",
   "metadata": {
    "colab_type": "text",
    "editable": false,
    "id": "f2XqD7Ya6y9q",
    "slideshow": {
     "slide_type": ""
    },
    "tags": []
   },
   "source": [
    "2) Create a variable, called __num__, to hold the integer value, __10__. Then, display the contents of the variable."
   ]
  },
  {
   "cell_type": "code",
   "execution_count": 1,
   "metadata": {
    "dotnet_interactive": {
     "language": "pwsh"
    },
    "polyglot_notebook": {
     "kernelName": "pwsh"
    },
    "vscode": {
     "languageId": "polyglot-notebook"
    }
   },
   "outputs": [
    {
     "name": "stdout",
     "output_type": "stream",
     "text": [
      "10\r\n"
     ]
    }
   ],
   "source": [
    "$num = 10\n",
    "$num"
   ]
  },
  {
   "cell_type": "markdown",
   "metadata": {
    "colab_type": "text",
    "editable": false,
    "id": "l_Q8MbM86y9z",
    "slideshow": {
     "slide_type": ""
    },
    "tags": []
   },
   "source": [
    "10"
   ]
  },
  {
   "cell_type": "markdown",
   "metadata": {
    "colab_type": "text",
    "id": "abgJYaMv6y91"
   },
   "source": [
    "---"
   ]
  },
  {
   "cell_type": "markdown",
   "metadata": {
    "colab_type": "text",
    "editable": false,
    "id": "QgmpkjOE6y93",
    "slideshow": {
     "slide_type": ""
    },
    "tags": []
   },
   "source": [
    "3) Create a variable to hold the name of your favourite TV character. Then, use a **formatted string** to display the message \"My favourite TV star is: \" with the variable contents appended. (e.g. \"My favourite TV star is: Homer Simpson\")"
   ]
  },
  {
   "cell_type": "code",
   "execution_count": 5,
   "metadata": {
    "dotnet_interactive": {
     "language": "pwsh"
    },
    "polyglot_notebook": {
     "kernelName": "pwsh"
    },
    "vscode": {
     "languageId": "polyglot-notebook"
    }
   },
   "outputs": [
    {
     "name": "stdout",
     "output_type": "stream",
     "text": [
      "My favourite TV star is:Peter Griffin\r\n"
     ]
    }
   ],
   "source": [
    "$person = \"Peter Griffin\" \n",
    "$sentence = \"My favourite TV star is:\"\n",
    "$sentence + $person "
   ]
  },
  {
   "cell_type": "markdown",
   "metadata": {
    "colab_type": "text",
    "editable": false,
    "id": "yblg8E4p6y9_",
    "slideshow": {
     "slide_type": ""
    },
    "tags": []
   },
   "source": [
    "My favourite TV star is: Homer Simpson"
   ]
  },
  {
   "cell_type": "markdown",
   "metadata": {
    "colab_type": "text",
    "id": "Z1ZTYMrg6y-A"
   },
   "source": [
    "---"
   ]
  },
  {
   "cell_type": "markdown",
   "metadata": {
    "colab_type": "text",
    "editable": false,
    "id": "5wf6aWFu6y-C",
    "slideshow": {
     "slide_type": ""
    },
    "tags": []
   },
   "source": [
    "4) Display Santa Clause's catch phrase (Ho Ho Ho) using the string replication operator."
   ]
  },
  {
   "cell_type": "code",
   "execution_count": 15,
   "metadata": {
    "dotnet_interactive": {
     "language": "pwsh"
    },
    "polyglot_notebook": {
     "kernelName": "pwsh"
    },
    "vscode": {
     "languageId": "polyglot-notebook"
    }
   },
   "outputs": [
    {
     "name": "stdout",
     "output_type": "stream",
     "text": [
      "Ho Ho Ho \r\n"
     ]
    }
   ],
   "source": [
    " \n",
    "\"Ho \" *3"
   ]
  },
  {
   "cell_type": "markdown",
   "metadata": {
    "colab_type": "text",
    "editable": false,
    "id": "_1Rqco0g6y-I",
    "slideshow": {
     "slide_type": ""
    },
    "tags": []
   },
   "source": [
    "Ho Ho Ho "
   ]
  },
  {
   "cell_type": "markdown",
   "metadata": {
    "colab_type": "text",
    "id": "Hzr0pZwz6y-K"
   },
   "source": [
    "---"
   ]
  },
  {
   "cell_type": "markdown",
   "metadata": {
    "colab_type": "text",
    "editable": false,
    "id": "A835cS6V6y-M",
    "slideshow": {
     "slide_type": ""
    },
    "tags": []
   },
   "source": [
    "5) Create a PowerShell statement to calculate the following mathematical expression:\n",
    "\n",
    "$$ \\begin{align*} \\frac {2 + 3} 2 \\times \\frac {6 - 4} 3 \\end{align*} $$ \n",
    "\n",
    "Round the result to three decimal points."
   ]
  },
  {
   "cell_type": "code",
   "execution_count": 16,
   "metadata": {
    "dotnet_interactive": {
     "language": "pwsh"
    },
    "polyglot_notebook": {
     "kernelName": "pwsh"
    },
    "vscode": {
     "languageId": "polyglot-notebook"
    }
   },
   "outputs": [
    {
     "name": "stdout",
     "output_type": "stream",
     "text": [
      "1.667\r\n"
     ]
    }
   ],
   "source": [
    "$result = ((2 + 3) / 2) * ((6 - 4) / 3)\n",
    "[math]::Round($result, 3)\n"
   ]
  },
  {
   "cell_type": "markdown",
   "metadata": {
    "colab_type": "text",
    "editable": false,
    "id": "b0lboah16y-S",
    "slideshow": {
     "slide_type": ""
    },
    "tags": []
   },
   "source": [
    "1.667"
   ]
  },
  {
   "cell_type": "markdown",
   "metadata": {
    "colab_type": "text",
    "editable": true,
    "id": "E-mgGgbG6y-U",
    "slideshow": {
     "slide_type": ""
    },
    "tags": []
   },
   "source": [
    "---"
   ]
  },
  {
   "cell_type": "markdown",
   "metadata": {
    "colab_type": "text",
    "editable": false,
    "id": "clFbvpgn6y-V",
    "slideshow": {
     "slide_type": ""
    },
    "tags": []
   },
   "source": [
    "### Part B - Fix the Error! (15pts)  \n",
    "\n",
    "Listed below are several snippets of code that contain small errors. For each of the questions, copy the given code and __correct the error__ so the code will generate the desired output. \n",
    "\n",
    "**Don't add any additional lines or entirely rewrite the given code, just correct the error to make the line(s) work as expected.**"
   ]
  },
  {
   "cell_type": "markdown",
   "metadata": {
    "colab_type": "text",
    "editable": false,
    "id": "E-mgGgbG6y-U",
    "slideshow": {
     "slide_type": ""
    },
    "tags": []
   },
   "source": [
    "---"
   ]
  },
  {
   "cell_type": "markdown",
   "metadata": {
    "colab_type": "text",
    "editable": true,
    "id": "MvbrIaDp6y-X",
    "slideshow": {
     "slide_type": ""
    },
    "tags": []
   },
   "source": [
    "6) Display a string of text on the screen."
   ]
  },
  {
   "cell_type": "code",
   "execution_count": 21,
   "metadata": {
    "dotnet_interactive": {
     "language": "pwsh"
    },
    "editable": false,
    "polyglot_notebook": {
     "kernelName": "pwsh"
    },
    "slideshow": {
     "slide_type": ""
    },
    "tags": [],
    "vscode": {
     "languageId": "polyglot-notebook"
    }
   },
   "outputs": [
    {
     "name": "stdout",
     "output_type": "stream",
     "text": [
      "This is a story about a man named Jed.\r\n"
     ]
    }
   ],
   "source": [
    "print = 'This is a story about a man named Jed.'"
   ]
  },
  {
   "cell_type": "code",
   "execution_count": 22,
   "metadata": {
    "dotnet_interactive": {
     "language": "pwsh"
    },
    "polyglot_notebook": {
     "kernelName": "pwsh"
    },
    "vscode": {
     "languageId": "polyglot-notebook"
    }
   },
   "outputs": [],
   "source": [
    "# enter your answer here\n",
    "$print = 'This is a story about a man named Jed.'\n",
    "$print"
   ]
  },
  {
   "cell_type": "markdown",
   "metadata": {
    "colab_type": "text",
    "editable": false,
    "hide_input": false,
    "id": "bxFcQ3OL6y-e",
    "slideshow": {
     "slide_type": ""
    },
    "tags": []
   },
   "source": [
    "This is a story about a man named Jed."
   ]
  },
  {
   "cell_type": "markdown",
   "metadata": {
    "colab_type": "text",
    "id": "C25pX2RK6y-g"
   },
   "source": [
    "---"
   ]
  },
  {
   "cell_type": "markdown",
   "metadata": {
    "colab_type": "text",
    "editable": false,
    "id": "ktSlWc6N6y-h",
    "slideshow": {
     "slide_type": ""
    },
    "tags": []
   },
   "source": [
    "7) Concatenate a string and a decimal number."
   ]
  },
  {
   "cell_type": "code",
   "execution_count": 24,
   "metadata": {
    "dotnet_interactive": {
     "language": "pwsh"
    },
    "editable": false,
    "polyglot_notebook": {
     "kernelName": "pwsh"
    },
    "slideshow": {
     "slide_type": ""
    },
    "tags": [],
    "vscode": {
     "languageId": "polyglot-notebook"
    }
   },
   "outputs": [
    {
     "name": "stdout",
     "output_type": "stream",
     "text": [
      "\u001b[31;1mParserError: \u001b[0m\n",
      "\u001b[31;1m\u001b[36;1mLine |\u001b[0m\n",
      "\u001b[31;1m\u001b[36;1m\u001b[36;1m   1 | \u001b[0m $out = \"PI = \" \u001b[36;1m3.14159\u001b[0m\n",
      "\u001b[31;1m\u001b[36;1m\u001b[36;1m\u001b[0m\u001b[36;1m\u001b[0m\u001b[36;1m     | \u001b[31;1m                ~~~~~~~\u001b[0m\n",
      "\u001b[31;1m\u001b[36;1m\u001b[36;1m\u001b[0m\u001b[36;1m\u001b[0m\u001b[36;1m\u001b[31;1m\u001b[31;1m\u001b[36;1m     | \u001b[31;1mUnexpected token '3.14159' in expression or statement.\u001b[0m\n"
     ]
    }
   ],
   "source": [
    "$out = \"PI = \" 3.14159\n",
    "Write-Host $out"
   ]
  },
  {
   "cell_type": "code",
   "execution_count": 7,
   "metadata": {
    "dotnet_interactive": {
     "language": "pwsh"
    },
    "polyglot_notebook": {
     "kernelName": "pwsh"
    },
    "vscode": {
     "languageId": "polyglot-notebook"
    }
   },
   "outputs": [],
   "source": [
    "# enter your answer here\n",
    "$decimalNumber = 3.14159\n",
    "$string = \"The value of PI is \"\n",
    "$result = $string + $decimalNumber.ToString()\n",
    "Write-Host $result"
   ]
  },
  {
   "cell_type": "markdown",
   "metadata": {
    "colab_type": "text",
    "editable": false,
    "hide_input": false,
    "id": "xO_FFzZY6y-m",
    "slideshow": {
     "slide_type": ""
    },
    "tags": []
   },
   "source": [
    "PI = 3.14159"
   ]
  },
  {
   "cell_type": "markdown",
   "metadata": {
    "colab_type": "text",
    "id": "9QoBU_y66y-n"
   },
   "source": [
    "---"
   ]
  },
  {
   "cell_type": "markdown",
   "metadata": {
    "colab_type": "text",
    "editable": false,
    "id": "JqoR_7nD6y-p",
    "slideshow": {
     "slide_type": ""
    },
    "tags": []
   },
   "source": [
    "8) Print a calculation."
   ]
  },
  {
   "cell_type": "code",
   "execution_count": null,
   "metadata": {
    "dotnet_interactive": {
     "language": "pwsh"
    },
    "editable": false,
    "polyglot_notebook": {
     "kernelName": "pwsh"
    },
    "slideshow": {
     "slide_type": ""
    },
    "tags": [],
    "vscode": {
     "languageId": "polyglot-notebook"
    }
   },
   "outputs": [],
   "source": [
    "Write-Host 1 + 2"
   ]
  },
  {
   "cell_type": "markdown",
   "metadata": {
    "dotnet_interactive": {
     "language": "pwsh"
    },
    "polyglot_notebook": {
     "kernelName": "pwsh"
    },
    "vscode": {
     "languageId": "polyglot-notebook"
    }
   },
   "source": [
    "# enter your answer here\n",
    "$result = 1 + 2\n",
    "Write-Host $result "
   ]
  },
  {
   "cell_type": "markdown",
   "metadata": {
    "colab_type": "text",
    "editable": false,
    "hide_input": false,
    "id": "T80xIQNw6y-v",
    "slideshow": {
     "slide_type": ""
    },
    "tags": []
   },
   "source": [
    "3"
   ]
  },
  {
   "cell_type": "markdown",
   "metadata": {
    "colab_type": "text",
    "id": "DFA2VS036y-y"
   },
   "source": [
    "---"
   ]
  },
  {
   "cell_type": "markdown",
   "metadata": {
    "colab_type": "text",
    "editable": false,
    "id": "4E936jWH6y-z",
    "slideshow": {
     "slide_type": ""
    },
    "tags": []
   },
   "source": [
    "9) Print a string and a calculation."
   ]
  },
  {
   "cell_type": "code",
   "execution_count": null,
   "metadata": {
    "dotnet_interactive": {
     "language": "pwsh"
    },
    "editable": false,
    "polyglot_notebook": {
     "kernelName": "pwsh"
    },
    "slideshow": {
     "slide_type": ""
    },
    "tags": [],
    "vscode": {
     "languageId": "polyglot-notebook"
    }
   },
   "outputs": [],
   "source": [
    "Write-Host \"3 cubed =\" (pow(3,3))"
   ]
  },
  {
   "cell_type": "code",
   "execution_count": 9,
   "metadata": {
    "dotnet_interactive": {
     "language": "pwsh"
    },
    "polyglot_notebook": {
     "kernelName": "pwsh"
    },
    "vscode": {
     "languageId": "polyglot-notebook"
    }
   },
   "outputs": [],
   "source": [
    "# enter your answer here\n",
    "Write-Host \"3 cubed\" = ([math]::pow(3,3))"
   ]
  },
  {
   "cell_type": "markdown",
   "metadata": {
    "colab_type": "text",
    "editable": false,
    "hide_input": false,
    "id": "QWoZX78Y6y-2",
    "slideshow": {
     "slide_type": ""
    },
    "tags": []
   },
   "source": [
    "3 cubed = 27"
   ]
  },
  {
   "cell_type": "markdown",
   "metadata": {
    "colab_type": "text",
    "id": "2cshrCMI6y-4"
   },
   "source": [
    "---"
   ]
  },
  {
   "cell_type": "markdown",
   "metadata": {
    "colab_type": "text",
    "editable": false,
    "id": "qDoiSp5n6y-6",
    "slideshow": {
     "slide_type": ""
    },
    "tags": []
   },
   "source": [
    "10) Display a name in the format <em>&lt;last name&gt;, &lt;first name&gt;</em>"
   ]
  },
  {
   "cell_type": "markdown",
   "metadata": {
    "dotnet_interactive": {
     "language": "pwsh"
    },
    "editable": false,
    "polyglot_notebook": {
     "kernelName": "pwsh"
    },
    "slideshow": {
     "slide_type": ""
    },
    "tags": [],
    "vscode": {
     "languageId": "polyglot-notebook"
    }
   },
   "source": [
    "Write-Host (\"{0}, {1}\" -f 'John', 'Smith')"
   ]
  },
  {
   "cell_type": "code",
   "execution_count": 2,
   "metadata": {
    "dotnet_interactive": {
     "language": "pwsh"
    },
    "polyglot_notebook": {
     "kernelName": "pwsh"
    },
    "vscode": {
     "languageId": "polyglot-notebook"
    }
   },
   "outputs": [
    {
     "name": "stdout",
     "output_type": "stream",
     "text": [
      "John, Smith\r\n"
     ]
    }
   ],
   "source": [
    "# enter your answer here\n",
    "Write-Host (\"{0}, {1}\" -f 'John', 'Smith')"
   ]
  },
  {
   "cell_type": "markdown",
   "metadata": {
    "colab_type": "text",
    "editable": false,
    "hide_input": false,
    "id": "p7efUk0_6y_A",
    "slideshow": {
     "slide_type": ""
    },
    "tags": []
   },
   "source": [
    "Smith, John"
   ]
  },
  {
   "cell_type": "markdown",
   "metadata": {
    "colab_type": "text",
    "id": "WBPb2GYB6y_A"
   },
   "source": [
    "---"
   ]
  },
  {
   "cell_type": "markdown",
   "metadata": {
    "colab_type": "text",
    "editable": false,
    "id": "-fePfJ-l6y_D",
    "slideshow": {
     "slide_type": ""
    },
    "tags": []
   },
   "source": [
    "11) Display the answer of an integer division and the remainder. There should not be any decimal points displayed."
   ]
  },
  {
   "cell_type": "code",
   "execution_count": null,
   "metadata": {
    "dotnet_interactive": {
     "language": "pwsh"
    },
    "editable": false,
    "polyglot_notebook": {
     "kernelName": "pwsh"
    },
    "slideshow": {
     "slide_type": ""
    },
    "tags": [],
    "vscode": {
     "languageId": "polyglot-notebook"
    }
   },
   "outputs": [],
   "source": [
    "Write-Host \"193 / 5 =\" (193/5) \"remainder\" (193/5)"
   ]
  },
  {
   "cell_type": "code",
   "execution_count": 3,
   "metadata": {
    "dotnet_interactive": {
     "language": "pwsh"
    },
    "polyglot_notebook": {
     "kernelName": "pwsh"
    },
    "vscode": {
     "languageId": "polyglot-notebook"
    }
   },
   "outputs": [
    {
     "name": "stdout",
     "output_type": "stream",
     "text": [
      "193 / 5 = 38 remainder 3\r\n"
     ]
    }
   ],
   "source": [
    "# enter your answer here\n",
    "$dividend = 193\n",
    "$divisor = 5\n",
    "\n",
    "$integerDivision = [math]::Floor($dividend / $divisor)\n",
    "$remainder = $dividend % $divisor\n",
    "\n",
    "Write-Host \"$dividend / $divisor = $integerDivision remainder $remainder\"\n"
   ]
  },
  {
   "cell_type": "markdown",
   "metadata": {
    "colab_type": "text",
    "editable": false,
    "hide_input": false,
    "id": "ZHMyYGDr6y_H",
    "slideshow": {
     "slide_type": ""
    },
    "tags": []
   },
   "source": [
    "193 / 5 = 38 remainder 3"
   ]
  },
  {
   "cell_type": "markdown",
   "metadata": {
    "colab_type": "text",
    "id": "Jj5xRTax6y_I"
   },
   "source": [
    "---"
   ]
  },
  {
   "cell_type": "markdown",
   "metadata": {
    "colab_type": "text",
    "editable": false,
    "id": "mdXkqJSQ6y_K",
    "slideshow": {
     "slide_type": ""
    },
    "tags": []
   },
   "source": [
    "12) Use two Write-Host statements to display on the same line."
   ]
  },
  {
   "cell_type": "code",
   "execution_count": null,
   "metadata": {
    "dotnet_interactive": {
     "language": "pwsh"
    },
    "editable": false,
    "polyglot_notebook": {
     "kernelName": "pwsh"
    },
    "slideshow": {
     "slide_type": ""
    },
    "tags": [],
    "vscode": {
     "languageId": "polyglot-notebook"
    }
   },
   "outputs": [],
   "source": [
    "Write-Host \"This is on \"\n",
    "Write-Host \"the same line.\""
   ]
  },
  {
   "cell_type": "code",
   "execution_count": 5,
   "metadata": {
    "dotnet_interactive": {
     "language": "pwsh"
    },
    "polyglot_notebook": {
     "kernelName": "pwsh"
    },
    "vscode": {
     "languageId": "polyglot-notebook"
    }
   },
   "outputs": [
    {
     "name": "stdout",
     "output_type": "stream",
     "text": [
      "This was on the same line.\n"
     ]
    }
   ],
   "source": [
    "# enter your answer here\n",
    "Write-Host \"This was on \" -NoNewline\n",
    "Write-Host \"the same line.\""
   ]
  },
  {
   "cell_type": "markdown",
   "metadata": {
    "colab_type": "text",
    "editable": false,
    "hide_input": false,
    "id": "Li8GQBhP6y_P",
    "slideshow": {
     "slide_type": ""
    },
    "tags": []
   },
   "source": [
    "This is on the same line."
   ]
  },
  {
   "cell_type": "markdown",
   "metadata": {
    "colab_type": "text",
    "id": "fPefqaRC6y_Q"
   },
   "source": [
    "---"
   ]
  },
  {
   "cell_type": "markdown",
   "metadata": {
    "colab_type": "text",
    "editable": false,
    "id": "zDfgedeQ6y_R",
    "slideshow": {
     "slide_type": ""
    },
    "tags": []
   },
   "source": [
    "13) Display the string along with the answer to a calculation."
   ]
  },
  {
   "cell_type": "code",
   "execution_count": null,
   "metadata": {
    "dotnet_interactive": {
     "language": "pwsh"
    },
    "editable": true,
    "polyglot_notebook": {
     "kernelName": "pwsh"
    },
    "slideshow": {
     "slide_type": ""
    },
    "tags": [],
    "vscode": {
     "languageId": "polyglot-notebook"
    }
   },
   "outputs": [],
   "source": [
    "Write-Host \"1 + 2 =\" 1 + 2"
   ]
  },
  {
   "cell_type": "code",
   "execution_count": 7,
   "metadata": {
    "dotnet_interactive": {
     "language": "pwsh"
    },
    "polyglot_notebook": {
     "kernelName": "pwsh"
    },
    "vscode": {
     "languageId": "polyglot-notebook"
    }
   },
   "outputs": [
    {
     "name": "stdout",
     "output_type": "stream",
     "text": [
      "1 + 2 = 3\r\n"
     ]
    }
   ],
   "source": [
    "# enter your answer here \n",
    "Write-Host \"1 + 2 =\" (1 + 2)"
   ]
  },
  {
   "cell_type": "markdown",
   "metadata": {
    "colab_type": "text",
    "editable": false,
    "hide_input": false,
    "id": "oHjfY8WX6y_U",
    "slideshow": {
     "slide_type": ""
    },
    "tags": []
   },
   "source": [
    "1 + 2 = 3"
   ]
  },
  {
   "cell_type": "markdown",
   "metadata": {
    "colab_type": "text",
    "id": "j-9PA9_k6y_V"
   },
   "source": [
    "---"
   ]
  },
  {
   "cell_type": "markdown",
   "metadata": {
    "colab_type": "text",
    "editable": false,
    "id": "X5D1SkqU6y_W",
    "slideshow": {
     "slide_type": ""
    },
    "tags": []
   },
   "source": [
    "14) Concatentate the string with the integer."
   ]
  },
  {
   "cell_type": "code",
   "execution_count": null,
   "metadata": {
    "dotnet_interactive": {
     "language": "pwsh"
    },
    "editable": true,
    "polyglot_notebook": {
     "kernelName": "pwsh"
    },
    "slideshow": {
     "slide_type": ""
    },
    "tags": [],
    "vscode": {
     "languageId": "polyglot-notebook"
    }
   },
   "outputs": [],
   "source": [
    "$string = \"Number = \" 99\n",
    "Write-Host $string"
   ]
  },
  {
   "cell_type": "code",
   "execution_count": 9,
   "metadata": {
    "dotnet_interactive": {
     "language": "pwsh"
    },
    "polyglot_notebook": {
     "kernelName": "pwsh"
    },
    "vscode": {
     "languageId": "polyglot-notebook"
    }
   },
   "outputs": [
    {
     "name": "stdout",
     "output_type": "stream",
     "text": [
      "Number = 99\r\n"
     ]
    }
   ],
   "source": [
    "# enter your answer here\n",
    "$string = \"Number = \" + 99\n",
    "Write-Host $string"
   ]
  },
  {
   "cell_type": "markdown",
   "metadata": {
    "colab_type": "text",
    "editable": false,
    "hide_input": false,
    "id": "96UK1g5z6y_b",
    "slideshow": {
     "slide_type": ""
    },
    "tags": []
   },
   "source": [
    "Number = 99"
   ]
  },
  {
   "cell_type": "markdown",
   "metadata": {},
   "source": [
    "14) Concatentate the string with the integer."
   ]
  },
  {
   "cell_type": "markdown",
   "metadata": {
    "colab_type": "text",
    "id": "xt8Nvun06y_c"
   },
   "source": [
    "---"
   ]
  },
  {
   "cell_type": "markdown",
   "metadata": {
    "colab_type": "text",
    "editable": false,
    "id": "E6vzuJbj6y_d",
    "slideshow": {
     "slide_type": ""
    },
    "tags": []
   },
   "source": [
    "15) Use a __single line__ Write-Host statement that prints text on multiple lines."
   ]
  },
  {
   "cell_type": "code",
   "execution_count": null,
   "metadata": {
    "dotnet_interactive": {
     "language": "pwsh"
    },
    "editable": false,
    "polyglot_notebook": {
     "kernelName": "pwsh"
    },
    "slideshow": {
     "slide_type": ""
    },
    "tags": [],
    "vscode": {
     "languageId": "polyglot-notebook"
    }
   },
   "outputs": [],
   "source": [
    "Write-Host \"This is on multiple lines.\""
   ]
  },
  {
   "cell_type": "code",
   "execution_count": 11,
   "metadata": {
    "dotnet_interactive": {
     "language": "pwsh"
    },
    "polyglot_notebook": {
     "kernelName": "pwsh"
    },
    "vscode": {
     "languageId": "polyglot-notebook"
    }
   },
   "outputs": [
    {
     "name": "stdout",
     "output_type": "stream",
     "text": [
      "This is on multiple lines.\n",
      "Line 2.\n",
      "Line 3.\r\n"
     ]
    }
   ],
   "source": [
    "# enter your answer here\n",
    "Write-Host \"This is on multiple lines.`nLine 2.`nLine 3.\"\n",
    "#Just basically putting in `n to drop down text"
   ]
  },
  {
   "cell_type": "markdown",
   "metadata": {
    "colab_type": "text",
    "editable": false,
    "hide_input": false,
    "id": "A8abaWIK6y_i",
    "slideshow": {
     "slide_type": ""
    },
    "tags": []
   },
   "source": [
    "This is<br>\n",
    "on multiple<br>\n",
    "lines."
   ]
  },
  {
   "cell_type": "markdown",
   "metadata": {
    "colab_type": "text",
    "editable": true,
    "id": "tqq23ggf6y_j",
    "slideshow": {
     "slide_type": ""
    },
    "tags": []
   },
   "source": [
    "---"
   ]
  },
  {
   "cell_type": "markdown",
   "metadata": {
    "colab_type": "text",
    "editable": false,
    "id": "A5dYC_Im6y_k",
    "slideshow": {
     "slide_type": ""
    },
    "tags": []
   },
   "source": [
    "16) Comment out the first line."
   ]
  },
  {
   "cell_type": "code",
   "execution_count": null,
   "metadata": {
    "dotnet_interactive": {
     "language": "pwsh"
    },
    "editable": false,
    "polyglot_notebook": {
     "kernelName": "pwsh"
    },
    "slideshow": {
     "slide_type": ""
    },
    "tags": [],
    "vscode": {
     "languageId": "polyglot-notebook"
    }
   },
   "outputs": [],
   "source": [
    "Write-Host \"This is just a comment.\"\n",
    "Write-Host \"You should only see this line.\""
   ]
  },
  {
   "cell_type": "code",
   "execution_count": 12,
   "metadata": {
    "dotnet_interactive": {
     "language": "pwsh"
    },
    "polyglot_notebook": {
     "kernelName": "pwsh"
    },
    "vscode": {
     "languageId": "polyglot-notebook"
    }
   },
   "outputs": [
    {
     "name": "stdout",
     "output_type": "stream",
     "text": [
      "You should only see this line.\r\n"
     ]
    }
   ],
   "source": [
    "# enter your answer here\n",
    "# Write-Host \"This is just a comment.\"\n",
    "Write-Host \"You should only see this line.\"\n",
    "#This is the easiest way to do it"
   ]
  },
  {
   "cell_type": "markdown",
   "metadata": {
    "colab_type": "text",
    "editable": false,
    "hide_input": false,
    "id": "UBjft-_Q6y_o",
    "slideshow": {
     "slide_type": ""
    },
    "tags": []
   },
   "source": [
    "You should only see this line."
   ]
  },
  {
   "cell_type": "markdown",
   "metadata": {
    "colab_type": "text",
    "id": "dIlFC3t36y_p"
   },
   "source": [
    "---"
   ]
  },
  {
   "cell_type": "markdown",
   "metadata": {
    "colab_type": "text",
    "editable": false,
    "id": "T-rGL5rf6y_p",
    "slideshow": {
     "slide_type": ""
    },
    "tags": []
   },
   "source": [
    "17) Make some ASCII art! (Just correct the line given. Don't add additional lines!)"
   ]
  },
  {
   "cell_type": "code",
   "execution_count": null,
   "metadata": {
    "dotnet_interactive": {
     "language": "pwsh"
    },
    "editable": false,
    "polyglot_notebook": {
     "kernelName": "pwsh"
    },
    "slideshow": {
     "slide_type": ""
    },
    "tags": [],
    "vscode": {
     "languageId": "polyglot-notebook"
    }
   },
   "outputs": [],
   "source": [
    "Write-Host \".     . \\ O /  - -   |   ^  / \\ -   -\" "
   ]
  },
  {
   "cell_type": "code",
   "execution_count": 28,
   "metadata": {
    "dotnet_interactive": {
     "language": "pwsh"
    },
    "polyglot_notebook": {
     "kernelName": "pwsh"
    },
    "vscode": {
     "languageId": "polyglot-notebook"
    }
   },
   "outputs": [
    {
     "name": "stdout",
     "output_type": "stream",
     "text": [
      ".     .\n",
      "\\ O /  \n",
      " - -  \n",
      "  |  \n",
      "  ^  \n",
      " / \\ \n",
      "-   -\r\n"
     ]
    }
   ],
   "source": [
    "# enter your answer here\n",
    "Write-Host \".     .`n\\ O /  `n - -  `n  |  `n  ^  `n / \\ `n-   -\"\n"
   ]
  },
  {
   "cell_type": "markdown",
   "metadata": {
    "colab_type": "text",
    "hide_input": false,
    "id": "13-5dgUB6y_t"
   },
   "source": [
    "<pre>\n",
    ".     .\n",
    " \\ O /\n",
    "  - -\n",
    "   |\n",
    "   ^\n",
    "  / \\\n",
    " -   -\n",
    " </pre>"
   ]
  },
  {
   "cell_type": "markdown",
   "metadata": {
    "colab_type": "text",
    "id": "HtT9IyLW6y_t"
   },
   "source": [
    "---"
   ]
  },
  {
   "cell_type": "markdown",
   "metadata": {
    "colab_type": "text",
    "editable": false,
    "id": "y8t5sNEJ6y_v",
    "slideshow": {
     "slide_type": ""
    },
    "tags": []
   },
   "source": [
    "18) A couple of problems here...."
   ]
  },
  {
   "cell_type": "code",
   "execution_count": null,
   "metadata": {
    "dotnet_interactive": {
     "language": "pwsh"
    },
    "editable": false,
    "polyglot_notebook": {
     "kernelName": "pwsh"
    },
    "slideshow": {
     "slide_type": ""
    },
    "tags": [],
    "vscode": {
     "languageId": "polyglot-notebook"
    }
   },
   "outputs": [],
   "source": [
    "Write-Host \"Something's {} right here.\" -f \"not\""
   ]
  },
  {
   "cell_type": "code",
   "execution_count": 34,
   "metadata": {
    "dotnet_interactive": {
     "language": "pwsh"
    },
    "polyglot_notebook": {
     "kernelName": "pwsh"
    },
    "vscode": {
     "languageId": "polyglot-notebook"
    }
   },
   "outputs": [
    {
     "name": "stdout",
     "output_type": "stream",
     "text": [
      "Something's not right here.\r\n"
     ]
    }
   ],
   "source": [
    "# enter your answer here \n",
    "Write-Host (\"Something's {0} right here.\" -f \"not\")\n",
    "#need to put a 0 in the brackets so you would need more brackets around the whole thing\n",
    "\n"
   ]
  },
  {
   "cell_type": "markdown",
   "metadata": {
    "colab_type": "text",
    "editable": false,
    "hide_input": false,
    "id": "e4rOW-WF6y_z",
    "slideshow": {
     "slide_type": ""
    },
    "tags": []
   },
   "source": [
    "Something's not right here."
   ]
  },
  {
   "cell_type": "markdown",
   "metadata": {
    "colab_type": "text",
    "id": "F_VZsY4J6y_0"
   },
   "source": [
    "---"
   ]
  },
  {
   "cell_type": "markdown",
   "metadata": {
    "colab_type": "text",
    "editable": false,
    "id": "4vX2ih9y6y_0",
    "slideshow": {
     "slide_type": ""
    },
    "tags": []
   },
   "source": [
    "19) Prepend the contents of variables to a string using string formatting."
   ]
  },
  {
   "cell_type": "code",
   "execution_count": null,
   "metadata": {
    "dotnet_interactive": {
     "language": "pwsh"
    },
    "editable": false,
    "polyglot_notebook": {
     "kernelName": "pwsh"
    },
    "slideshow": {
     "slide_type": ""
    },
    "tags": [],
    "vscode": {
     "languageId": "polyglot-notebook"
    }
   },
   "outputs": [],
   "source": [
    "$name = 'John Smith'\n",
    "$age = 50\n",
    "$output = \" years old.\"\n",
    "$output = \"{0} is {1}\" -f $name, ($age + $output)\n",
    "Write-Host $output"
   ]
  },
  {
   "cell_type": "code",
   "execution_count": 35,
   "metadata": {
    "dotnet_interactive": {
     "language": "pwsh"
    },
    "polyglot_notebook": {
     "kernelName": "pwsh"
    },
    "vscode": {
     "languageId": "polyglot-notebook"
    }
   },
   "outputs": [
    {
     "name": "stdout",
     "output_type": "stream",
     "text": [
      "John Smith is 50 years old.\r\n"
     ]
    }
   ],
   "source": [
    "# enter your answer here\n",
    "$name = 'John Smith'\n",
    "$age = 50\n",
    "$output = \" years old.\"\n",
    "$outputAll = \"{0} is {1}\" -f $name, ($age.ToString() + $output)\n",
    "Write-Host $outputAll\n"
   ]
  },
  {
   "cell_type": "markdown",
   "metadata": {
    "colab_type": "text",
    "editable": false,
    "id": "6IVRe1Qh6y_5",
    "slideshow": {
     "slide_type": ""
    },
    "tags": []
   },
   "source": [
    "John Smith is 50 years old."
   ]
  },
  {
   "cell_type": "markdown",
   "metadata": {
    "colab_type": "text",
    "id": "A68QJSUp6y_5"
   },
   "source": [
    "---"
   ]
  },
  {
   "cell_type": "markdown",
   "metadata": {
    "colab_type": "text",
    "id": "xZuKb1vx6y_6"
   },
   "source": [
    "20) Add the contents of variables to a string using variable expansion."
   ]
  },
  {
   "cell_type": "code",
   "execution_count": 36,
   "metadata": {
    "dotnet_interactive": {
     "language": "pwsh"
    },
    "editable": true,
    "polyglot_notebook": {
     "kernelName": "pwsh"
    },
    "slideshow": {
     "slide_type": ""
    },
    "tags": [],
    "vscode": {
     "languageId": "polyglot-notebook"
    }
   },
   "outputs": [
    {
     "name": "stdout",
     "output_type": "stream",
     "text": [
      "$name is $age years old.\r\n"
     ]
    }
   ],
   "source": [
    "$name = 'John Smith'\n",
    "$age = 50\n",
    "Write-Host '$name is $age years old.'"
   ]
  },
  {
   "cell_type": "code",
   "execution_count": 37,
   "metadata": {
    "dotnet_interactive": {
     "language": "pwsh"
    },
    "polyglot_notebook": {
     "kernelName": "pwsh"
    },
    "vscode": {
     "languageId": "polyglot-notebook"
    }
   },
   "outputs": [
    {
     "name": "stdout",
     "output_type": "stream",
     "text": [
      "John Smith is 50 years old.\r\n"
     ]
    }
   ],
   "source": [
    "# enter your answer here\n",
    "$name = 'John Smith'\n",
    "$age = 50\n",
    "Write-Host \"$name is $age years old.\"\n",
    "#need quation marks around it"
   ]
  },
  {
   "cell_type": "markdown",
   "metadata": {
    "colab_type": "text",
    "editable": false,
    "id": "_Yy8M9Tt6y_-",
    "slideshow": {
     "slide_type": ""
    },
    "tags": []
   },
   "source": [
    "John Smith is 50 years old."
   ]
  },
  {
   "cell_type": "markdown",
   "metadata": {
    "editable": true,
    "slideshow": {
     "slide_type": ""
    },
    "tags": []
   },
   "source": [
    "---\n",
    "\n",
    "### Part C - Practical (15pts)  \n",
    "\n",
    "For each of the questions, determine the line(s) of PowerShell needed to complete the common task.\n",
    "\n",
    "---"
   ]
  },
  {
   "cell_type": "markdown",
   "metadata": {},
   "source": [
    "21. Display all Jupyter Notebooks (*.ipynb) in the current folder."
   ]
  },
  {
   "cell_type": "code",
   "execution_count": 28,
   "metadata": {
    "dotnet_interactive": {
     "language": "pwsh"
    },
    "polyglot_notebook": {
     "kernelName": "pwsh"
    },
    "vscode": {
     "languageId": "polyglot-notebook"
    }
   },
   "outputs": [],
   "source": [
    "2"
   ]
  },
  {
   "cell_type": "markdown",
   "metadata": {
    "vscode": {
     "languageId": "polyglot-notebook"
    }
   },
   "source": [
    "22. Use a cmdlet to display examples on how to use the 'Stop-Process' cmdlet."
   ]
  },
  {
   "cell_type": "code",
   "execution_count": 39,
   "metadata": {
    "dotnet_interactive": {
     "language": "pwsh"
    },
    "polyglot_notebook": {
     "kernelName": "pwsh"
    },
    "vscode": {
     "languageId": "polyglot-notebook"
    }
   },
   "outputs": [
    {
     "name": "stdout",
     "output_type": "stream",
     "text": [
      "2\r\n"
     ]
    }
   ],
   "source": [
    "2"
   ]
  },
  {
   "cell_type": "markdown",
   "metadata": {
    "vscode": {
     "languageId": "polyglot-notebook"
    }
   },
   "source": [
    "23. Modify the PATH environment variable to __append__ the following path.\n",
    "\n",
    "`;C:\\Users\\nscc\\.bin`"
   ]
  },
  {
   "cell_type": "code",
   "execution_count": 38,
   "metadata": {
    "dotnet_interactive": {
     "language": "pwsh"
    },
    "polyglot_notebook": {
     "kernelName": "pwsh"
    },
    "vscode": {
     "languageId": "polyglot-notebook"
    }
   },
   "outputs": [],
   "source": [
    "2"
   ]
  },
  {
   "cell_type": "markdown",
   "metadata": {},
   "source": [
    "24. You have used 82% of a 1TB hard drive. \n",
    "\n",
    "Create a PowerShell expression to determine what the actual remaining size is in MB and display that value using a formatted string, with commas to separate the thousands and rounded to two decimal points."
   ]
  },
  {
   "cell_type": "code",
   "execution_count": 40,
   "metadata": {
    "dotnet_interactive": {
     "language": "pwsh"
    },
    "polyglot_notebook": {
     "kernelName": "pwsh"
    },
    "vscode": {
     "languageId": "polyglot-notebook"
    }
   },
   "outputs": [
    {
     "name": "stdout",
     "output_type": "stream",
     "text": [
      "4\r\n"
     ]
    }
   ],
   "source": [
    "4"
   ]
  },
  {
   "cell_type": "markdown",
   "metadata": {},
   "source": [
    "25. Create a PowerShell script that you could add to your PowerShell profile that will display the current user, the hostname and the current date in a header that will be displayed everytime a new PowerShell window is opened.\n",
    "\n",
    "For example:\n",
    "```\n",
    "****************************************\n",
    "* User: johndoe\n",
    "* Host: COMPUTER-ABCD\n",
    "* Date: 06/06/2024 14:10:39\n",
    "****************************************\n",
    "```\n",
    "\n",
    "Try adding to your PowerShell profile to see if it works!"
   ]
  },
  {
   "cell_type": "code",
   "execution_count": 27,
   "metadata": {
    "dotnet_interactive": {
     "language": "pwsh"
    },
    "polyglot_notebook": {
     "kernelName": "pwsh"
    },
    "vscode": {
     "languageId": "polyglot-notebook"
    }
   },
   "outputs": [],
   "source": [
    "#im doing this at home so I'll do it next class\n",
    "5 "
   ]
  }
 ],
 "metadata": {
  "colab": {
   "collapsed_sections": [],
   "name": "Assignment 1 - Input and Output.ipynb",
   "provenance": [],
   "toc_visible": true,
   "version": "0.3.2"
  },
  "hide_input": false,
  "kernelspec": {
   "display_name": ".NET (C#)",
   "language": "C#",
   "name": ".net-csharp"
  },
  "language_info": {
   "file_extension": ".ps1",
   "mimetype": "text/x-powershell",
   "name": "PowerShell",
   "pygments_lexer": "powershell",
   "version": "7.0"
  },
  "polyglot_notebook": {
   "kernelInfo": {
    "defaultKernelName": "powershell",
    "items": [
     {
      "aliases": [],
      "name": "powershell"
     }
    ]
   }
  }
 },
 "nbformat": 4,
 "nbformat_minor": 4
}
