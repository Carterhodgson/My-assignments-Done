{
 "cells": [
  {
   "cell_type": "markdown",
   "metadata": {
    "colab_type": "text",
    "id": "-ycSUdCI6y9U"
   },
   "source": [
    "# Assignment 2\n",
    "\n",
    "### Total : 29pts"
   ]
  },
  {
   "cell_type": "code",
   "execution_count": 15,
   "metadata": {
    "dotnet_interactive": {
     "language": "pwsh"
    },
    "vscode": {
     "languageId": "polyglot-notebook"
    }
   },
   "outputs": [],
   "source": [
    "# write a program to print your name and student number \n",
    "# using variables and variable substitution\n"
   ]
  },
  {
   "cell_type": "markdown",
   "metadata": {},
   "source": [
    "Name: John Doe  \n",
    "Student #: W0123456"
   ]
  },
  {
   "cell_type": "markdown",
   "metadata": {
    "colab_type": "text",
    "id": "Wu4GRcHW6y9Z"
   },
   "source": [
    "### Part A - Practice (16pts)\n",
    "\n",
    "For each item below, determine the appropriate PowerShell code to generate the desired output.\n",
    "\n",
    "__Note__: Ensure you read each direction carefully! You will lose points for not producing the correct output.\n",
    "\n",
    "---"
   ]
  },
  {
   "cell_type": "markdown",
   "metadata": {},
   "source": [
    "1. Write a small program that take a numeric variable.  \n",
    "Print out \"EVEN\" if the value is a even number and display __nothing__ if it is odd.<br>  \n",
    "__1 pt__"
   ]
  },
  {
   "cell_type": "code",
   "execution_count": 14,
   "metadata": {
    "dotnet_interactive": {
     "language": "pwsh"
    },
    "vscode": {
     "languageId": "polyglot-notebook"
    }
   },
   "outputs": [
    {
     "name": "stdout",
     "output_type": "stream",
     "text": [
      "EVEN\r\n"
     ]
    }
   ],
   "source": [
    "$number = 10\n",
    "\n",
    "if ($number % 2 -eq 0) {\n",
    "    Write-Host \"EVEN\"\n",
    "}"
   ]
  },
  {
   "cell_type": "markdown",
   "metadata": {},
   "source": [
    "2. Write a small program that will look at a single character and print out \"__letter__\", if it is between the letters '__a__' and '__z__' (inclusive).<br>  \n",
    "__2 pts__"
   ]
  },
  {
   "cell_type": "code",
   "execution_count": 17,
   "metadata": {
    "dotnet_interactive": {
     "language": "pwsh"
    },
    "vscode": {
     "languageId": "polyglot-notebook"
    }
   },
   "outputs": [
    {
     "name": "stdout",
     "output_type": "stream",
     "text": [
      "letter\r\n"
     ]
    }
   ],
   "source": [
    "# this character could be any viewable character\n",
    "# feel free to change it to test your code\n",
    "$character = 'x' # could be '$', 'p', '*', 'w', etc...\n",
    "if ($character -match '^[a-z]$') {\n",
    "    Write-Host \"letter\"\n",
    "}\n",
    "# add your code here"
   ]
  },
  {
   "cell_type": "markdown",
   "metadata": {},
   "source": [
    "3. Compare a given number and if the number is '12345' (secret code),<br>print \"UNLOCKED!\" otherwise have it print \"ALARM!\"<br>  \n",
    "__2 pts__"
   ]
  },
  {
   "cell_type": "code",
   "execution_count": 22,
   "metadata": {
    "dotnet_interactive": {
     "language": "pwsh"
    },
    "vscode": {
     "languageId": "polyglot-notebook"
    }
   },
   "outputs": [
    {
     "name": "stdout",
     "output_type": "stream",
     "text": [
      "UNLOCKED!\r\n"
     ]
    }
   ],
   "source": [
    "# assume this is the number that was entered by the user\n",
    "# it could be anything, including the correct combination\n",
    "$code = \"12346\" # try different values here\n",
    "if ($code -eq 12346) {\n",
    "    Write-Host \"UNLOCKED!\"\n",
    "} else {\n",
    "    Write-Host \"ALARM!\"\n",
    "}\n",
    "# add your code here"
   ]
  },
  {
   "cell_type": "markdown",
   "metadata": {},
   "source": [
    "4. Given an integer, determine and then output whether the number is \"negative\", \"positive\" or \"zero\".<br>  \n",
    "__3 pts__\n"
   ]
  },
  {
   "cell_type": "code",
   "execution_count": 24,
   "metadata": {
    "dotnet_interactive": {
     "language": "pwsh"
    },
    "vscode": {
     "languageId": "polyglot-notebook"
    }
   },
   "outputs": [
    {
     "name": "stdout",
     "output_type": "stream",
     "text": [
      "negative\r\n"
     ]
    }
   ],
   "source": [
    "# this could be any valid integer\n",
    "$integer = -5 # try different integers to test your code\n",
    "\n",
    "if ($integer -lt 0) \n",
    "{\n",
    "    Write-Host \"negative\"\n",
    "}\n",
    "elseif ($integer -gt 0) \n",
    "{\n",
    "    Write-Host \"poitive\"\n",
    "} \n",
    "else\n",
    "{\n",
    "    Write-Host \"zero\"\n",
    "}\n"
   ]
  },
  {
   "cell_type": "markdown",
   "metadata": {},
   "source": [
    "5. Create a program that solves that age old question,  \n",
    "__\"Would you choose $1 Million dollars or get a single penny that doubles every day for a month?\"__\n",
    "(e.g. Day 1 = 1¢, Day 2 = 2¢, Day 3 = 4¢, ..., Day 30 = ?)  \n",
    "Calculate the total amount you would get on Day 30  \n",
    "_Note 1_: just output the amount you would have on Day 30, don't include other amounts  \n",
    "_Note 2_: display the amount in dollars, not pennies<br>  \n",
    "__3 pts__\n"
   ]
  },
  {
   "cell_type": "code",
   "execution_count": 30,
   "metadata": {
    "dotnet_interactive": {
     "language": "pwsh"
    },
    "vscode": {
     "languageId": "polyglot-notebook"
    }
   },
   "outputs": [
    {
     "name": "stdout",
     "output_type": "stream",
     "text": [
      "Amount on Day 30: 5,368,709.12\r\n"
     ]
    }
   ],
   "source": [
    "#I had to use chat gpt for this one because I didn't have the string command needed in my notes and was stuck on this for a while\n",
    "$penny = 0.01\n",
    "\n",
    "$day30Amount = $penny * [math]::Pow(2, 29)\n",
    "\n",
    "Write-Host (\"Amount on Day 30: $($day30Amount.ToString(\"N2\"))\")"
   ]
  },
  {
   "cell_type": "markdown",
   "metadata": {},
   "source": [
    "6. Create a program that outputs the following pattern using loops. <br>(i.e. not individual print statements)  \n",
    "Try to challenge yourself to make the code in the least number of lines.<br>  \n",
    "__5 pts__\n",
    "```shell\n",
    "         o\n",
    "        ooo\n",
    "       ooooo\n",
    "      ooooooo\n",
    "     ooooooooo\n",
    "    ooooooooooo\n",
    "   ooooooooooooo\n",
    "  ooooooooooooooo\n",
    " ooooooooooooooooo\n",
    "ooooooooooooooooooo\n",
    " ooooooooooooooooo\n",
    "  ooooooooooooooo\n",
    "   ooooooooooooo\n",
    "    ooooooooooo\n",
    "     ooooooooo\n",
    "      ooooooo\n",
    "       ooooo\n",
    "        ooo\n",
    "         o\n",
    "```\n"
   ]
  },
  {
   "cell_type": "code",
   "execution_count": 12,
   "metadata": {
    "dotnet_interactive": {
     "language": "pwsh"
    },
    "vscode": {
     "languageId": "polyglot-notebook"
    }
   },
   "outputs": [
    {
     "name": "stdout",
     "output_type": "stream",
     "text": [
      "         o\n",
      "        ooo\n",
      "       ooooo\n",
      "      ooooooo\n",
      "     ooooooooo\n",
      "    ooooooooooo\n",
      "   ooooooooooooo\n",
      "  ooooooooooooooo\n",
      " ooooooooooooooooo\n",
      "ooooooooooooooooooo\n",
      " ooooooooooooooooo\n",
      "  ooooooooooooooo\n",
      "   ooooooooooooo\n",
      "    ooooooooooo\n",
      "     ooooooooo\n",
      "      ooooooo\n",
      "       ooooo\n",
      "        ooo\n",
      "         o\n"
     ]
    }
   ],
   "source": [
    "# add your code here\n",
    "$rows = 10\n",
    "\n",
    "for ($i = 1; $i -le $rows; $i++) \n",
    "{\n",
    "    Write-Host (\" \" * ($rows - $i) + \"o\" * (2 * $i - 1))\n",
    "}\n",
    "    for ($i = $rows - 1; $i -ge 1; $i--) \n",
    "{\n",
    "    Write-Host (\" \" * ($rows - $i) + \"o\" * (2 * $i - 1))\n",
    "}\n"
   ]
  },
  {
   "cell_type": "markdown",
   "metadata": {},
   "source": [
    "---\n",
    "### Part B - Understand (9pts)\n",
    "\n",
    "For the following, you will need to understand how the program works in order to solve the problem."
   ]
  },
  {
   "cell_type": "markdown",
   "metadata": {},
   "source": [
    "7. Modify the following to output the odd numbers \"5 3 1 -1 -3 -5\".<br>  \n",
    "__2 pts__<br>  \n",
    "    ```powershell\n",
    "    # original code\n",
    "    $output = \"\"\n",
    "    for ($i = 0; $i -lt 5; $i++) {\n",
    "        $output += \"$i \"\n",
    "    }\n",
    "    Write-Host $output\n",
    "    ```\n"
   ]
  },
  {
   "cell_type": "code",
   "execution_count": 78,
   "metadata": {
    "dotnet_interactive": {
     "language": "pwsh"
    },
    "vscode": {
     "languageId": "polyglot-notebook"
    }
   },
   "outputs": [
    {
     "name": "stdout",
     "output_type": "stream",
     "text": [
      "5 3 1 -1 -3 -5 \r\n"
     ]
    }
   ],
   "source": [
    "# modify this code\n",
    "#This one was really confusing and I need chatgpt for this one, I didnt find my notes helpful with this one\n",
    "$output = \"\"\n",
    "for ($i = 5; $i -ge -5; $i -=2) {\n",
    "    $output += \"$i \"\n",
    "}\n",
    "Write-Host $output"
   ]
  },
  {
   "cell_type": "markdown",
   "metadata": {},
   "source": [
    "8. Make a __single__ change to the expression in the following 'if' statement to make the statement 'true' and successfully print the desired output.<br>  \n",
    "__1 pt__<br>  \n",
    "    ```powershell\n",
    "    # original code\n",
    "    if (-not (5 -lt 10) -and ($True -ne $False) -or ('apple' -gt 'orange')) {\n",
    "        Write-Host \"Success!\"\n",
    "    } else {\n",
    "        Write-Host \"Not yet...\"\n",
    "    }\n",
    "    ```\n"
   ]
  },
  {
   "cell_type": "code",
   "execution_count": 76,
   "metadata": {
    "dotnet_interactive": {
     "language": "pwsh"
    },
    "vscode": {
     "languageId": "polyglot-notebook"
    }
   },
   "outputs": [
    {
     "name": "stdout",
     "output_type": "stream",
     "text": [
      "Success!\r\n"
     ]
    }
   ],
   "source": [
    "# modify this code\n",
    "\n",
    "if (-not (5 -gt 10) -and ($True -ne $False) -or ('apple' -gt 'orange')) {\n",
    "    Write-Host \"Success!\"\n",
    "} else {\n",
    "Write-Host \"Not yet...\"\n",
    "}\n"
   ]
  },
  {
   "cell_type": "markdown",
   "metadata": {},
   "source": [
    "9. The following program converts the number '1' to the day 'Sunday'.  \n",
    "Modify the program so that if the variable 'day' is between 1-7,\n",
    "the program will output the corresponding day of the week. (i.e.'Sunday' thru 'Saturday').<br>  \n",
    "__3 pts__\n",
    "    ```powershell\n",
    "    # original code\n",
    "    $day = 1 # this value could be 1 - 7\n",
    "    if ($day -eq 1) {\n",
    "        $day = \"Sunday\"\n",
    "    }\n",
    "    Write-Host $day\n",
    "    ```\n"
   ]
  },
  {
   "cell_type": "code",
   "execution_count": 74,
   "metadata": {
    "dotnet_interactive": {
     "language": "pwsh"
    },
    "vscode": {
     "languageId": "polyglot-notebook"
    }
   },
   "outputs": [
    {
     "name": "stdout",
     "output_type": "stream",
     "text": [
      "Wednesday\r\n"
     ]
    }
   ],
   "source": [
    "# modify this code\n",
    "\n",
    "$day = 4              # this value could be 1 - 7\n",
    "switch ($day) {\n",
    "    1 { $day = \"Sunday\" }\n",
    "    2 { $day = \"Monday\" }\n",
    "    3 { $day = \"Tuesday\" }\n",
    "    4 { $day = \"Wednesday\" }\n",
    "    5 { $day = \"Thursday\" }\n",
    "    6 { $day = \"Friday\" }\n",
    "    7 { $day = \"Saturday\" }\n",
    "    default { $day = \"Invalid day\" }\n",
    "}\n",
    "Write-Host $day"
   ]
  },
  {
   "cell_type": "markdown",
   "metadata": {},
   "source": [
    "10. Determine what value to change the variable \"magic_num\" to in order to print out the message.<br>  \n",
    "__3 pts__\n",
    "    ```powershell\n",
    "    # Just change the number to the real magic number! Yep, that's it!\n",
    "    # Please keep your answer from others. The fun is solving the puzzle after all!\n",
    "    $magic_num = 0\n",
    "\n",
    "    # don't modify the following code\n",
    "    $check = 0\n",
    "    while ($check -lt 127) {\n",
    "        for ($i = 0; $i -lt 6; $i++) { \n",
    "            $magic_num -= 3\n",
    "        }\n",
    "        $check += 9\n",
    "    }\n",
    "    if ($magic_num -eq 0) {\n",
    "        Write-Host \"You found the magic number!\"\n",
    "    } else {\n",
    "        Write-Host \"Not yet. Keep trying!\"\n",
    "    }\n",
    "    ```\n"
   ]
  },
  {
   "cell_type": "code",
   "execution_count": 81,
   "metadata": {
    "dotnet_interactive": {
     "language": "pwsh"
    },
    "vscode": {
     "languageId": "polyglot-notebook"
    }
   },
   "outputs": [
    {
     "name": "stdout",
     "output_type": "stream",
     "text": [
      "Not yet. Keep trying!\r\n"
     ]
    }
   ],
   "source": [
    "# Just change the number to the real magic number! Yep, that's it!\n",
    "# Please keep your answer from others. The fun is solving the puzzle after all!\n",
    "$magic_num = 126\n",
    "# don't modify the following code\n",
    "$check = 0\n",
    "while ($check -lt 127) {\n",
    "    for ($i = 0; $i -lt 6; $i++) { \n",
    "        $magic_num -= 3\n",
    "    }\n",
    "    $check += 9\n",
    "}\n",
    "if ($magic_num -eq 0) {\n",
    "    Write-Host \"You found the magic number!\"\n",
    "} else {\n",
    "    Write-Host \"Not yet. Keep trying!\"\n",
    "}"
   ]
  },
  {
   "cell_type": "markdown",
   "metadata": {},
   "source": [
    "---\n",
    "### Part C - Practical (4pts)\n"
   ]
  },
  {
   "cell_type": "markdown",
   "metadata": {},
   "source": [
    "11. You are developing a PowerShell script that will format a partition and requires the user to agree to continue with the format.<br>  \n",
    "Create the portion of the script that will ask the user to enter the word \"YES\" (in all uppercase letters) for the script to continue. If the user enters anything else, the script will ask again. If the user fails to enter \"YES\" after three attempts, the script will exit.<br>  \n",
    "__4 pts__"
   ]
  },
  {
   "cell_type": "code",
   "execution_count": 80,
   "metadata": {
    "dotnet_interactive": {
     "language": "pwsh"
    },
    "polyglot_notebook": {
     "kernelName": "pwsh"
    },
    "vscode": {
     "languageId": "polyglot-notebook"
    }
   },
   "outputs": [
    {
     "name": "stdout",
     "output_type": "stream",
     "text": [
      "Continuing with formatting...\n",
      "Proceeding with format...\n"
     ]
    }
   ],
   "source": [
    "# add your code here\n",
    "\n",
    "# my mind was cooked trying to do this and needed chat gpt for this one, I had notes but kept getting stuck. I will review this assignment and do the practice links you gave me, so feel free to take \n",
    "# these points away\n",
    "Write-Host \"Continuing with formatting...\"\n",
    "$attempts = 0\n",
    "while ($attempts -lt 3) {\n",
    "    $userInput = Read-Host -Prompt \"Enter YES to continue\"\n",
    "    if ($userInput -eq \"YES\") {\n",
    "        Write-Host \"Proceeding with format...\"\n",
    "        # Place your formatting code here\n",
    "        break\n",
    "    } else {\n",
    "        Write-Host \"Invalid input. Please enter YES.\"\n",
    "        $attempts++\n",
    "    }\n",
    "    if ($attempts -eq 3) {\n",
    "        Write-Host \"Too many failed attempts. Exiting script.\"\n",
    "        exit\n",
    "    }\n",
    "}"
   ]
  }
 ],
 "metadata": {
  "hide_input": false,
  "kernelspec": {
   "display_name": ".NET (C#)",
   "language": "C#",
   "name": ".net-csharp"
  },
  "language_info": {
   "codemirror_mode": {
    "name": "ipython",
    "version": 3
   },
   "file_extension": ".py",
   "mimetype": "text/x-python",
   "name": "PowerShell",
   "nbconvert_exporter": "python",
   "pygments_lexer": "ipython3",
   "version": "3.8.5"
  },
  "nteract": {
   "version": "0.15.0"
  },
  "polyglot_notebook": {
   "kernelInfo": {
    "defaultKernelName": "powershell",
    "items": [
     {
      "aliases": [],
      "name": "powershell"
     }
    ]
   }
  }
 },
 "nbformat": 4,
 "nbformat_minor": 4
}
